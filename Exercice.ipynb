{
 "cells": [
  {
   "cell_type": "code",
   "execution_count": 1,
   "metadata": {},
   "outputs": [
    {
     "name": "stdout",
     "output_type": "stream",
     "text": [
      "Bienvenue,  !\n"
     ]
    }
   ],
   "source": [
    "nom = input(\"Veuillez saisir votre nom : \")\n",
    "print(f\"Bienvenue, {nom} !\")"
   ]
  },
  {
   "cell_type": "code",
   "execution_count": 2,
   "metadata": {},
   "outputs": [
    {
     "name": "stdout",
     "output_type": "stream",
     "text": [
      "La somme de 4.0 et 7.0 est : 11.0\n"
     ]
    }
   ],
   "source": [
    "a = float(input(\"Veuillez saisir le premier nombre (a) : \"))\n",
    "b = float(input(\"Veuillez saisir le deuxième nombre (b) : \"))\n",
    "somme = a + b\n",
    "print(f\"La somme de {a} et {b} est : {somme}\")"
   ]
  },
  {
   "cell_type": "code",
   "execution_count": 3,
   "metadata": {},
   "outputs": [
    {
     "name": "stdout",
     "output_type": "stream",
     "text": [
      "Le maximum entre 6.0 et 9.0 est : 9.0\n"
     ]
    }
   ],
   "source": [
    "a = float(input(\"Veuillez saisir le premier nombre (a) : \"))\n",
    "b = float(input(\"Veuillez saisir le deuxième nombre (b) : \"))\n",
    "maximum = max(a, b)\n",
    "print(f\"Le maximum entre {a} et {b} est : {maximum}\")"
   ]
  },
  {
   "cell_type": "code",
   "execution_count": 4,
   "metadata": {},
   "outputs": [
    {
     "name": "stdout",
     "output_type": "stream",
     "text": [
      "0\n",
      "1\n",
      "2\n",
      "3\n",
      "4\n",
      "5\n",
      "6\n",
      "7\n",
      "8\n",
      "9\n",
      "10\n",
      "11\n",
      "12\n",
      "13\n",
      "14\n",
      "15\n",
      "16\n",
      "17\n",
      "18\n",
      "19\n",
      "20\n",
      "21\n",
      "22\n",
      "23\n",
      "24\n",
      "25\n",
      "26\n",
      "27\n",
      "28\n",
      "29\n",
      "30\n",
      "31\n",
      "32\n",
      "33\n",
      "34\n",
      "35\n",
      "36\n",
      "37\n",
      "38\n",
      "39\n",
      "40\n",
      "41\n",
      "42\n",
      "43\n",
      "44\n",
      "45\n",
      "46\n",
      "47\n",
      "48\n",
      "49\n",
      "50\n",
      "51\n",
      "52\n",
      "53\n",
      "54\n",
      "55\n",
      "56\n",
      "57\n",
      "58\n",
      "59\n",
      "60\n",
      "61\n",
      "62\n",
      "63\n",
      "64\n",
      "65\n",
      "66\n",
      "67\n",
      "68\n",
      "69\n",
      "70\n",
      "71\n",
      "72\n",
      "73\n",
      "74\n",
      "75\n",
      "76\n",
      "77\n",
      "78\n",
      "79\n",
      "80\n",
      "81\n",
      "82\n",
      "83\n",
      "84\n",
      "85\n",
      "86\n",
      "87\n",
      "88\n",
      "89\n",
      "90\n",
      "91\n",
      "92\n",
      "93\n",
      "94\n",
      "95\n",
      "96\n",
      "97\n",
      "98\n",
      "99\n"
     ]
    }
   ],
   "source": [
    "for i in range(100):\n",
    "    print(i)"
   ]
  },
  {
   "cell_type": "code",
   "execution_count": 5,
   "metadata": {},
   "outputs": [
    {
     "name": "stdout",
     "output_type": "stream",
     "text": [
      "7 est un nombre impair.\n"
     ]
    }
   ],
   "source": [
    "n = int(input(\"Veuillez saisir un nombre entier : \"))\n",
    "if n % 2 == 0:\n",
    "    print(f\"{n} est un nombre pair.\")\n",
    "else:\n",
    "    print(f\"{n} est un nombre impair.\")"
   ]
  },
  {
   "cell_type": "code",
   "execution_count": 6,
   "metadata": {},
   "outputs": [
    {
     "name": "stdout",
     "output_type": "stream",
     "text": [
      "Vous êtes Majeur !\n"
     ]
    }
   ],
   "source": [
    "age = int(input(\"Veuillez saisir votre âge : \"))\n",
    "if age >= 18:\n",
    "    print(\"Vous êtes Majeur !\")\n",
    "else:\n",
    "    print(\"Vous êtes Mineur !\")"
   ]
  },
  {
   "cell_type": "code",
   "execution_count": 7,
   "metadata": {},
   "outputs": [
    {
     "name": "stdout",
     "output_type": "stream",
     "text": [
      "Le maximum entre 76.0, 7.0 et 8.0 est : 76.0\n"
     ]
    }
   ],
   "source": [
    "x = float(input(\"Veuillez saisir le premier nombre (X) : \"))\n",
    "y = float(input(\"Veuillez saisir le deuxième nombre (Y) : \"))\n",
    "z = float(input(\"Veuillez saisir le troisième nombre (Z) : \"))\n",
    "maximum = max(x, y, z)\n",
    "print(f\"Le maximum entre {x}, {y} et {z} est : {maximum}\")"
   ]
  },
  {
   "cell_type": "code",
   "execution_count": null,
   "metadata": {},
   "outputs": [],
   "source": [
    "n = int(input(\"Veuillez saisir un nombre entier n : \"))\n",
    "somme = sum(range(1, n + 1))\n",
    "print(f\"La somme de 1 à {n} est : {somme}\")"
   ]
  },
  {
   "cell_type": "code",
   "execution_count": null,
   "metadata": {},
   "outputs": [],
   "source": [
    "import math\n",
    "\n",
    "n = int(input(\"Veuillez saisir un nombre entier n : \"))\n",
    "factorielle = math.factorial(n)\n",
    "print(f\"La valeur de {n}! est : {factorielle}\")"
   ]
  },
  {
   "cell_type": "code",
   "execution_count": null,
   "metadata": {},
   "outputs": [],
   "source": [
    "import math\n",
    "\n",
    "rayon = float(input(\"Veuillez saisir le rayon du cercle : \"))\n",
    "surface = math.pi * rayon ** 2\n",
    "perimetre = 2 * math.pi * rayon\n",
    "print(f\"Surface : {surface}\")\n",
    "print(f\"Périmètre : {perimetre}\")"
   ]
  },
  {
   "cell_type": "code",
   "execution_count": null,
   "metadata": {},
   "outputs": [],
   "source": [
    "n = int(input(\"Veuillez saisir un nombre entier : \"))\n",
    "diviseurs = [i for i in range(1, n + 1) if n % i == 0]\n",
    "print(f\"Les diviseurs de {n} sont : {diviseurs}\")"
   ]
  },
  {
   "cell_type": "code",
   "execution_count": null,
   "metadata": {},
   "outputs": [],
   "source": [
    "n = int(input(\"Veuillez saisir un nombre entier n : \"))\n",
    "print(f\"Table de multiplication de {n} :\")\n",
    "for i in range(1, 11):\n",
    "    print(f\"{n} x {i} = {n * i}\")\n",
    "\n",
    "print(\"Tables de multiplication de 1 à 9 :\")\n",
    "for i in range(1, 10):\n",
    "    print(f\"Table de {i} :\")\n",
    "    for j in range(1, 11):\n",
    "        print(f\"{i} x {j} = {i * j}\")"
   ]
  },
  {
   "cell_type": "code",
   "execution_count": null,
   "metadata": {},
   "outputs": [],
   "source": [
    "a = int(input(\"Veuillez saisir le premier nombre entier (a) : \"))\n",
    "b = int(input(\"Veuillez saisir le deuxième nombre entier (b) : \"))\n",
    "quotient = a // b\n",
    "reste = a % b\n",
    "print(f\"Quotient : {quotient}, Reste : {reste}\")"
   ]
  },
  {
   "cell_type": "code",
   "execution_count": null,
   "metadata": {},
   "outputs": [],
   "source": [
    "n = int(input(\"Veuillez saisir un nombre entier : \"))\n",
    "racine = int(math.sqrt(n))\n",
    "if racine * racine == n:\n",
    "    print(f\"{n} est un carré parfait.\")\n",
    "else:\n",
    "    print(f\"{n} n'est pas un carré parfait.\")"
   ]
  },
  {
   "cell_type": "code",
   "execution_count": null,
   "metadata": {},
   "outputs": [],
   "source": [
    "n = int(input(\"Veuillez saisir un nombre entier : \"))\n",
    "if n > 1:\n",
    "    for i in range(2, int(math.sqrt(n)) + 1):\n",
    "        if n % i == 0:\n",
    "            print(f\"{n} n'est pas un nombre premier.\")\n",
    "            break\n",
    "    else:\n",
    "        print(f\"{n} est un nombre premier.\")\n",
    "else:\n",
    "    print(f\"{n} n'est pas un nombre premier.\")"
   ]
  },
  {
   "cell_type": "code",
   "execution_count": null,
   "metadata": {},
   "outputs": [],
   "source": [
    "chaine = input(\"Veuillez saisir une chaîne de caractères : \")\n",
    "for caractere in chaine:\n",
    "    print(caractere)"
   ]
  },
  {
   "cell_type": "code",
   "execution_count": null,
   "metadata": {},
   "outputs": [],
   "source": [
    "chaine = input(\"Veuillez saisir une chaîne de caractères : \")\n",
    "occurences = {}\n",
    "for caractere in chaine:\n",
    "    occurences[caractere] = occurences.get(caractere, 0) + 1\n",
    "print(occurences)"
   ]
  },
  {
   "cell_type": "code",
   "execution_count": null,
   "metadata": {},
   "outputs": [],
   "source": [
    "s = input(\"Veuillez saisir une chaîne de caractères : \")\n",
    "positions = [i for i, c in enumerate(s) if c == 'a']\n",
    "if positions:\n",
    "    print(f\"La lettre 'a' se trouve aux positions : {positions}\")\n",
    "else:\n",
    "    print(\"La lettre 'a' n'est pas présente dans la chaîne.\")"
   ]
  },
  {
   "cell_type": "code",
   "execution_count": null,
   "metadata": {},
   "outputs": [],
   "source": [
    "liste = [\"laptop\", \"iphone\", \"tablet\"]\n",
    "for chaine in liste:\n",
    "    print(f\"{chaine} (Longueur : {len(chaine)})\")"
   ]
  },
  {
   "cell_type": "code",
   "execution_count": null,
   "metadata": {},
   "outputs": [],
   "source": [
    "chaine = input(\"Veuillez saisir une chaîne de caractères : \")\n",
    "if len(chaine) > 1:\n",
    "    nouvelle_chaine = chaine[-1] + chaine[1:-1] + chaine[0]\n",
    "else:\n",
    "    nouvelle_chaine = chaine\n",
    "print(nouvelle_chaine)"
   ]
  },
  {
   "cell_type": "code",
   "execution_count": null,
   "metadata": {},
   "outputs": [],
   "source": [
    "chaine = input(\"Veuillez saisir une chaîne de caractères : \")\n",
    "voyelles = \"aeiouyAEIOUY\"\n",
    "compteur = sum(1 for c in chaine if c in voyelles)\n",
    "print(f\"Nombre de voyelles : {compteur}\")"
   ]
  },
  {
   "cell_type": "code",
   "execution_count": null,
   "metadata": {},
   "outputs": [],
   "source": [
    "texte = input(\"Veuillez saisir un texte : \")\n",
    "premier_mot = texte.split()[0] if texte.split() else \"\"\n",
    "print(f\"Le premier mot est : {premier_mot}\")"
   ]
  },
  {
   "cell_type": "code",
   "execution_count": null,
   "metadata": {},
   "outputs": [],
   "source": [
    "fichier = input(\"Veuillez saisir le nom d'un fichier : \")\n",
    "extension = fichier.split('.')[-1] if '.' in fichier else \"\"\n",
    "print(f\"L'extension est : {extension}\")"
   ]
  },
  {
   "cell_type": "code",
   "execution_count": null,
   "metadata": {},
   "outputs": [],
   "source": [
    "mot = input(\"Veuillez saisir un mot : \")\n",
    "if mot == mot[::-1]:\n",
    "    print(f\"{mot} est un palindrome.\")\n",
    "else:\n",
    "    print(f\"{mot} n'est pas un palindrome.\")"
   ]
  },
  {
   "cell_type": "code",
   "execution_count": null,
   "metadata": {},
   "outputs": [],
   "source": [
    "mot = input(\"Veuillez saisir un mot : \")\n",
    "inverse = mot[::-1]\n",
    "print(f\"L'inverse de {mot} est : {inverse}\")"
   ]
  },
  {
   "cell_type": "code",
   "execution_count": null,
   "metadata": {},
   "outputs": [],
   "source": [
    "texte = input(\"Veuillez saisir un texte : \")\n",
    "mots = texte.split()\n",
    "mots_a = [mot for mot in mots if mot.lower().startswith('a')]\n",
    "print(\"Mots commençant par 'a' :\", mots_a)"
   ]
  },
  {
   "cell_type": "code",
   "execution_count": null,
   "metadata": {},
   "outputs": [],
   "source": [
    "def somme_liste(liste):\n",
    "    return sum(liste)\n",
    "\n",
    "def produit_liste(liste):\n",
    "    produit = 1\n",
    "    for nombre in liste:\n",
    "        produit *= nombre\n",
    "    return produit\n",
    "\n",
    "# Exemple d'utilisation\n",
    "nombres = [1, 2, 3, 4]\n",
    "print(\"Somme :\", somme_liste(nombres))\n",
    "print(\"Produit :\", produit_liste(nombres))"
   ]
  },
  {
   "cell_type": "code",
   "execution_count": null,
   "metadata": {},
   "outputs": [],
   "source": [
    "def est_vide(objet):\n",
    "    return len(objet) == 0\n",
    "\n",
    "# Test pour une liste\n",
    "liste = []\n",
    "print(\"La liste est vide :\", est_vide(liste))\n",
    "\n",
    "# Test pour une chaîne\n",
    "chaine = \"\"\n",
    "print(\"La chaîne est vide :\", est_vide(chaine))"
   ]
  },
  {
   "cell_type": "code",
   "execution_count": null,
   "metadata": {},
   "outputs": [],
   "source": [
    "def supprimer_dupliques(liste):\n",
    "    return list(set(liste))\n",
    "\n",
    "nombres = [1, 2, 2, 3, 4, 4, 5]\n",
    "print(\"Liste sans doublons :\", supprimer_dupliques(nombres))"
   ]
  },
  {
   "cell_type": "code",
   "execution_count": null,
   "metadata": {},
   "outputs": [],
   "source": [
    "def valeurs_communes(liste1, liste2):\n",
    "    return set(liste1).intersection(set(liste2))\n",
    "\n",
    "# Exemple d'utilisation\n",
    "liste1 = [1, 2, 3]\n",
    "liste2 = [3, 4, 5]\n",
    "print(\"Valeurs communes :\", valeurs_communes(liste1, liste2))"
   ]
  },
  {
   "cell_type": "code",
   "execution_count": null,
   "metadata": {},
   "outputs": [],
   "source": [
    "def pairs_impairs(liste):\n",
    "    pairs = [n for n in liste if n % 2 == 0]\n",
    "    impairs = [n for n in liste if n % 2 != 0]\n",
    "    return pairs, impairs\n",
    "\n",
    "nombres = [1, 2, 3, 4, 5, 6]\n",
    "pairs, impairs = pairs_impairs(nombres)\n",
    "print(\"Pairs :\", pairs)\n",
    "print(\"Impairs :\", impairs)"
   ]
  },
  {
   "cell_type": "code",
   "execution_count": null,
   "metadata": {},
   "outputs": [],
   "source": [
    "from itertools import permutations\n",
    "\n",
    "def toutes_permutations(liste):\n",
    "    return list(permutations(liste))\n",
    "\n",
    "# Exemple d'utilisation\n",
    "liste = [1, 2, 3]\n",
    "print(\"Toutes les permutations :\", toutes_permutations(liste))"
   ]
  },
  {
   "cell_type": "code",
   "execution_count": null,
   "metadata": {},
   "outputs": [],
   "source": [
    "chaine = input(\"Veuillez saisir une chaîne de caractères : \")\n",
    "caracteres_pairs = [chaine[i] for i in range(len(chaine)) if i % 2 == 0]\n",
    "print(\"Caractères d'indice pair :\", ''.join(caracteres_pairs))"
   ]
  },
  {
   "cell_type": "code",
   "execution_count": null,
   "metadata": {},
   "outputs": [],
   "source": [
    "notes = [12, 4, 14, 11, 18, 13, 7, 10, 5, 9, 15, 8, 14, 16]\n",
    "moyenne = 10\n",
    "notes_au_dessus_moyenne = [note for note in notes if note >= moyenne]\n",
    "print(\"Notes au-dessus de la moyenne :\", notes_au_dessus_moyenne)"
   ]
  },
  {
   "cell_type": "code",
   "execution_count": null,
   "metadata": {},
   "outputs": [],
   "source": [
    "url = input(\"Veuillez saisir une adresse URL : \")\n",
    "lien = f\"<a href='{url}'>{url}</a>\"\n",
    "print(\"Lien HTML :\", lien)"
   ]
  },
  {
   "cell_type": "code",
   "execution_count": null,
   "metadata": {},
   "outputs": [],
   "source": [
    "chaine = input(\"Veuillez saisir une chaîne : \")\n",
    "chaine_sans_espaces = ' '.join(chaine.split())\n",
    "print(\"Chaîne sans espaces multiples :\", chaine_sans_espaces)"
   ]
  },
  {
   "cell_type": "code",
   "execution_count": null,
   "metadata": {},
   "outputs": [],
   "source": [
    "s1 = input(\"Veuillez saisir la première chaîne : \")\n",
    "s2 = input(\"Veuillez saisir la deuxième chaîne : \")\n",
    "\n",
    "mots_communs = set(s1.split()).intersection(set(s2.split()))\n",
    "print(\"Mots communs :\", mots_communs)"
   ]
  },
  {
   "cell_type": "code",
   "execution_count": null,
   "metadata": {},
   "outputs": [],
   "source": [
    "chaine = input(\"Veuillez saisir une chaîne : \")\n",
    "mots = chaine.split()\n",
    "mot_le_plus_long = max(mots, key=len)\n",
    "print(\"Le mot le plus long est :\", mot_le_plus_long)"
   ]
  },
  {
   "cell_type": "code",
   "execution_count": null,
   "metadata": {},
   "outputs": [],
   "source": [
    "chaine = input(\"Veuillez saisir une chaîne : \")\n",
    "nombre_de_mots = len(chaine.split())\n",
    "print(\"Nombre de mots :\", nombre_de_mots)"
   ]
  },
  {
   "cell_type": "code",
   "execution_count": null,
   "metadata": {},
   "outputs": [],
   "source": [
    "chaine = input(\"Veuillez saisir une chaîne : \")\n",
    "mots = chaine.split()\n",
    "if len(mots) > 1:\n",
    "    mots[0], mots[-1] = mots[-1], mots[0]\n",
    "echanger = ' '.join(mots)\n",
    "print(\"Chaîne avec premier et dernier mot échangés :\", echanger)"
   ]
  },
  {
   "cell_type": "code",
   "execution_count": null,
   "metadata": {},
   "outputs": [],
   "source": [
    "def nombre_divisibles(liste, n):\n",
    "    return sum(1 for x in liste if x % n == 0)\n",
    "\n",
    "# Exemple d'utilisation\n",
    "nombres = [1, 2, 3, 4, 5, 6]\n",
    "n = 2\n",
    "print(\"Nombre d'éléments divisibles par\", n, \":\", nombre_divisibles(nombres, n))"
   ]
  },
  {
   "cell_type": "code",
   "execution_count": null,
   "metadata": {},
   "outputs": [],
   "source": [
    "def nombre_occurrences(liste, x):\n",
    "    compteur = 0\n",
    "    for element in liste:\n",
    "        if element == x:\n",
    "            compteur += 1\n",
    "    return compteur\n",
    "\n",
    "# Exemple d'utilisation\n",
    "liste = [1, 2, 2, 3, 4, 2]\n",
    "x = 2\n",
    "print(\"Occurrences de\", x, \":\", nombre_occurrences(liste, x))"
   ]
  },
  {
   "cell_type": "code",
   "execution_count": null,
   "metadata": {},
   "outputs": [],
   "source": [
    "def insert_etoiles(chaine):\n",
    "    return '*'.join(chaine)\n",
    "\n",
    "chaine = input(\"Veuillez saisir une chaîne : \")\n",
    "print(\"Chaîne avec étoiles :\", insert_etoiles(chaine))"
   ]
  },
  {
   "cell_type": "code",
   "execution_count": null,
   "metadata": {},
   "outputs": [],
   "source": [
    "def tout_en_majuscule(liste):\n",
    "    return [chaine.upper() for chaine in liste]\n",
    "\n",
    "# Exemple d'utilisation\n",
    "listes = [\"bonjour\", \"au revoir\", \"merci\"]\n",
    "print(\"Listes en majuscule :\", tout_en_majuscule(listes))"
   ]
  },
  {
   "cell_type": "code",
   "execution_count": null,
   "metadata": {},
   "outputs": [],
   "source": [
    "def compter_cases(chaine):\n",
    "    minuscules = sum(1 for c in chaine if c.islower())\n",
    "    majuscules = sum(1 for c in chaine if c.isupper())\n",
    "    return minuscules, majuscules\n",
    "\n",
    "chaine = input(\"Veuillez saisir une chaîne : \")\n",
    "minuscules, majuscules = compter_cases(chaine)\n",
    "print(\"Minuscules :\", minuscules, \"Majuscules :\", majuscules)"
   ]
  },
  {
   "cell_type": "code",
   "execution_count": null,
   "metadata": {},
   "outputs": [],
   "source": [
    "def chiffres_dans_nombre(n):\n",
    "    chiffres = []\n",
    "    while n > 0:\n",
    "        chiffres.append(n % 10)\n",
    "        n //= 10\n",
    "    return chiffres[::-1]\n",
    "\n",
    "n = int(input(\"Veuillez saisir un nombre : \"))\n",
    "print(\"Chiffres du nombre :\", chiffres_dans_nombre(n))"
   ]
  },
  {
   "cell_type": "code",
   "execution_count": 9,
   "metadata": {},
   "outputs": [
    {
     "name": "stdout",
     "output_type": "stream",
     "text": [
      "Mots communs : set()\n"
     ]
    }
   ],
   "source": [
    "def mots_communs_textes(texte1, texte2):\n",
    "    mots1 = set(texte1.split())\n",
    "    mots2 = set(texte2.split())\n",
    "    return mots1.intersection(mots2)\n",
    "\n",
    "texte1 = input(\"Veuillez saisir le premier texte : \")\n",
    "texte2 = input(\"Veuillez saisir le deuxième texte : \")\n",
    "print(\"Mots communs :\", mots_communs_textes(texte1, texte2))"
   ]
  }
 ],
 "metadata": {
  "kernelspec": {
   "display_name": "Python 3",
   "language": "python",
   "name": "python3"
  },
  "language_info": {
   "codemirror_mode": {
    "name": "ipython",
    "version": 3
   },
   "file_extension": ".py",
   "mimetype": "text/x-python",
   "name": "python",
   "nbconvert_exporter": "python",
   "pygments_lexer": "ipython3",
   "version": "3.13.0"
  }
 },
 "nbformat": 4,
 "nbformat_minor": 2
}
